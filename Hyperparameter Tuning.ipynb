{
 "cells": [
  {
   "cell_type": "code",
   "execution_count": 1,
   "metadata": {
    "colab": {
     "base_uri": "https://localhost:8080/"
    },
    "collapsed": true,
    "executionInfo": {
     "elapsed": 74866,
     "status": "ok",
     "timestamp": 1732899268255,
     "user": {
      "displayName": "Phuong Huynh",
      "userId": "00018831781326839715"
     },
     "user_tz": -420
    },
    "id": "i7olq_8J1RtE",
    "outputId": "79cbb933-7f14-48b8-cb6a-f1c912381966"
   },
   "outputs": [],
   "source": [
    "#!pip install skimpy\n",
    "# from google.colab import drive\n",
    "# drive.mount('/content/drive')\n",
    "import pandas as pd\n",
    "import numpy as np\n",
    "import matplotlib.pyplot as plt\n",
    "import seaborn as sns\n",
    "from skimpy import skim\n",
    "from sklearn.model_selection import train_test_split\n",
    "from sklearn.preprocessing import TargetEncoder\n",
    "from sklearn.compose import ColumnTransformer\n",
    "from sklearn.tree import DecisionTreeClassifier\n",
    "from sklearn.metrics import f1_score, confusion_matrix, precision_recall_curve,accuracy_score\n",
    "from collections import Counter\n",
    "import warnings\n",
    "warnings.filterwarnings(\"ignore\")"
   ]
  },
  {
   "cell_type": "code",
   "execution_count": 2,
   "metadata": {
    "colab": {
     "base_uri": "https://localhost:8080/",
     "height": 418
    },
    "executionInfo": {
     "elapsed": 358,
     "status": "error",
     "timestamp": 1732899690898,
     "user": {
      "displayName": "Phuong Huynh",
      "userId": "00018831781326839715"
     },
     "user_tz": -420
    },
    "id": "Hb6a58Ia1RtF",
    "outputId": "543b83bb-4548-4761-cf04-3ac5bd2bf3f8"
   },
   "outputs": [],
   "source": [
    "# đọc file data\n",
    "df = pd.read_csv(\"digital_marketing_campaign_dataset.csv\")"
   ]
  },
  {
   "cell_type": "code",
   "execution_count": 3,
   "metadata": {
    "colab": {
     "base_uri": "https://localhost:8080/",
     "height": 226
    },
    "executionInfo": {
     "elapsed": 7,
     "status": "ok",
     "timestamp": 1732801985030,
     "user": {
      "displayName": "QUYẾT LÊ",
      "userId": "10351380661436045253"
     },
     "user_tz": -420
    },
    "id": "1ieG8SxR1RtG",
    "outputId": "7fbdb1b0-b6b8-467b-f70c-e326b8f02479"
   },
   "outputs": [
    {
     "data": {
      "text/html": [
       "<div>\n",
       "<style scoped>\n",
       "    .dataframe tbody tr th:only-of-type {\n",
       "        vertical-align: middle;\n",
       "    }\n",
       "\n",
       "    .dataframe tbody tr th {\n",
       "        vertical-align: top;\n",
       "    }\n",
       "\n",
       "    .dataframe thead th {\n",
       "        text-align: right;\n",
       "    }\n",
       "</style>\n",
       "<table border=\"1\" class=\"dataframe\">\n",
       "  <thead>\n",
       "    <tr style=\"text-align: right;\">\n",
       "      <th></th>\n",
       "      <th>CustomerID</th>\n",
       "      <th>Age</th>\n",
       "      <th>Gender</th>\n",
       "      <th>Income</th>\n",
       "      <th>CampaignChannel</th>\n",
       "      <th>CampaignType</th>\n",
       "      <th>AdSpend</th>\n",
       "      <th>ClickThroughRate</th>\n",
       "      <th>ConversionRate</th>\n",
       "      <th>WebsiteVisits</th>\n",
       "      <th>PagesPerVisit</th>\n",
       "      <th>TimeOnSite</th>\n",
       "      <th>SocialShares</th>\n",
       "      <th>EmailOpens</th>\n",
       "      <th>EmailClicks</th>\n",
       "      <th>PreviousPurchases</th>\n",
       "      <th>LoyaltyPoints</th>\n",
       "      <th>AdvertisingPlatform</th>\n",
       "      <th>AdvertisingTool</th>\n",
       "      <th>Conversion</th>\n",
       "    </tr>\n",
       "  </thead>\n",
       "  <tbody>\n",
       "    <tr>\n",
       "      <th>0</th>\n",
       "      <td>8000</td>\n",
       "      <td>56</td>\n",
       "      <td>Female</td>\n",
       "      <td>136912</td>\n",
       "      <td>Social Media</td>\n",
       "      <td>Awareness</td>\n",
       "      <td>6497.870068</td>\n",
       "      <td>0.043919</td>\n",
       "      <td>0.088031</td>\n",
       "      <td>0</td>\n",
       "      <td>2.399017</td>\n",
       "      <td>7.396803</td>\n",
       "      <td>19</td>\n",
       "      <td>6</td>\n",
       "      <td>9</td>\n",
       "      <td>4</td>\n",
       "      <td>688</td>\n",
       "      <td>IsConfid</td>\n",
       "      <td>ToolConfid</td>\n",
       "      <td>1</td>\n",
       "    </tr>\n",
       "    <tr>\n",
       "      <th>1</th>\n",
       "      <td>8001</td>\n",
       "      <td>69</td>\n",
       "      <td>Male</td>\n",
       "      <td>41760</td>\n",
       "      <td>Email</td>\n",
       "      <td>Retention</td>\n",
       "      <td>3898.668606</td>\n",
       "      <td>0.155725</td>\n",
       "      <td>0.182725</td>\n",
       "      <td>42</td>\n",
       "      <td>2.917138</td>\n",
       "      <td>5.352549</td>\n",
       "      <td>5</td>\n",
       "      <td>2</td>\n",
       "      <td>7</td>\n",
       "      <td>2</td>\n",
       "      <td>3459</td>\n",
       "      <td>IsConfid</td>\n",
       "      <td>ToolConfid</td>\n",
       "      <td>1</td>\n",
       "    </tr>\n",
       "    <tr>\n",
       "      <th>2</th>\n",
       "      <td>8002</td>\n",
       "      <td>46</td>\n",
       "      <td>Female</td>\n",
       "      <td>88456</td>\n",
       "      <td>PPC</td>\n",
       "      <td>Awareness</td>\n",
       "      <td>1546.429596</td>\n",
       "      <td>0.277490</td>\n",
       "      <td>0.076423</td>\n",
       "      <td>2</td>\n",
       "      <td>8.223619</td>\n",
       "      <td>13.794901</td>\n",
       "      <td>0</td>\n",
       "      <td>11</td>\n",
       "      <td>2</td>\n",
       "      <td>8</td>\n",
       "      <td>2337</td>\n",
       "      <td>IsConfid</td>\n",
       "      <td>ToolConfid</td>\n",
       "      <td>1</td>\n",
       "    </tr>\n",
       "    <tr>\n",
       "      <th>3</th>\n",
       "      <td>8003</td>\n",
       "      <td>32</td>\n",
       "      <td>Female</td>\n",
       "      <td>44085</td>\n",
       "      <td>PPC</td>\n",
       "      <td>Conversion</td>\n",
       "      <td>539.525936</td>\n",
       "      <td>0.137611</td>\n",
       "      <td>0.088004</td>\n",
       "      <td>47</td>\n",
       "      <td>4.540939</td>\n",
       "      <td>14.688363</td>\n",
       "      <td>89</td>\n",
       "      <td>2</td>\n",
       "      <td>2</td>\n",
       "      <td>0</td>\n",
       "      <td>2463</td>\n",
       "      <td>IsConfid</td>\n",
       "      <td>ToolConfid</td>\n",
       "      <td>1</td>\n",
       "    </tr>\n",
       "    <tr>\n",
       "      <th>4</th>\n",
       "      <td>8004</td>\n",
       "      <td>60</td>\n",
       "      <td>Female</td>\n",
       "      <td>83964</td>\n",
       "      <td>PPC</td>\n",
       "      <td>Conversion</td>\n",
       "      <td>1678.043573</td>\n",
       "      <td>0.252851</td>\n",
       "      <td>0.109940</td>\n",
       "      <td>0</td>\n",
       "      <td>2.046847</td>\n",
       "      <td>13.993370</td>\n",
       "      <td>6</td>\n",
       "      <td>6</td>\n",
       "      <td>6</td>\n",
       "      <td>8</td>\n",
       "      <td>4345</td>\n",
       "      <td>IsConfid</td>\n",
       "      <td>ToolConfid</td>\n",
       "      <td>1</td>\n",
       "    </tr>\n",
       "  </tbody>\n",
       "</table>\n",
       "</div>"
      ],
      "text/plain": [
       "   CustomerID  Age  Gender  Income CampaignChannel CampaignType      AdSpend  \\\n",
       "0        8000   56  Female  136912    Social Media    Awareness  6497.870068   \n",
       "1        8001   69    Male   41760           Email    Retention  3898.668606   \n",
       "2        8002   46  Female   88456             PPC    Awareness  1546.429596   \n",
       "3        8003   32  Female   44085             PPC   Conversion   539.525936   \n",
       "4        8004   60  Female   83964             PPC   Conversion  1678.043573   \n",
       "\n",
       "   ClickThroughRate  ConversionRate  WebsiteVisits  PagesPerVisit  TimeOnSite  \\\n",
       "0          0.043919        0.088031              0       2.399017    7.396803   \n",
       "1          0.155725        0.182725             42       2.917138    5.352549   \n",
       "2          0.277490        0.076423              2       8.223619   13.794901   \n",
       "3          0.137611        0.088004             47       4.540939   14.688363   \n",
       "4          0.252851        0.109940              0       2.046847   13.993370   \n",
       "\n",
       "   SocialShares  EmailOpens  EmailClicks  PreviousPurchases  LoyaltyPoints  \\\n",
       "0            19           6            9                  4            688   \n",
       "1             5           2            7                  2           3459   \n",
       "2             0          11            2                  8           2337   \n",
       "3            89           2            2                  0           2463   \n",
       "4             6           6            6                  8           4345   \n",
       "\n",
       "  AdvertisingPlatform AdvertisingTool  Conversion  \n",
       "0            IsConfid      ToolConfid           1  \n",
       "1            IsConfid      ToolConfid           1  \n",
       "2            IsConfid      ToolConfid           1  \n",
       "3            IsConfid      ToolConfid           1  \n",
       "4            IsConfid      ToolConfid           1  "
      ]
     },
     "execution_count": 3,
     "metadata": {},
     "output_type": "execute_result"
    }
   ],
   "source": [
    "df.head()"
   ]
  },
  {
   "cell_type": "code",
   "execution_count": 4,
   "metadata": {
    "colab": {
     "base_uri": "https://localhost:8080/",
     "height": 226
    },
    "executionInfo": {
     "elapsed": 312,
     "status": "ok",
     "timestamp": 1732801987359,
     "user": {
      "displayName": "QUYẾT LÊ",
      "userId": "10351380661436045253"
     },
     "user_tz": -420
    },
    "id": "spR8-6NK1RtH",
    "outputId": "8e1beff6-b746-4ee2-f5f5-0884ffbc1b55"
   },
   "outputs": [
    {
     "data": {
      "text/html": [
       "<div>\n",
       "<style scoped>\n",
       "    .dataframe tbody tr th:only-of-type {\n",
       "        vertical-align: middle;\n",
       "    }\n",
       "\n",
       "    .dataframe tbody tr th {\n",
       "        vertical-align: top;\n",
       "    }\n",
       "\n",
       "    .dataframe thead th {\n",
       "        text-align: right;\n",
       "    }\n",
       "</style>\n",
       "<table border=\"1\" class=\"dataframe\">\n",
       "  <thead>\n",
       "    <tr style=\"text-align: right;\">\n",
       "      <th></th>\n",
       "      <th>CustomerID</th>\n",
       "      <th>Age</th>\n",
       "      <th>Gender</th>\n",
       "      <th>Income</th>\n",
       "      <th>CampaignChannel</th>\n",
       "      <th>CampaignType</th>\n",
       "      <th>AdSpend</th>\n",
       "      <th>ClickThroughRate</th>\n",
       "      <th>ConversionRate</th>\n",
       "      <th>WebsiteVisits</th>\n",
       "      <th>PagesPerVisit</th>\n",
       "      <th>TimeOnSite</th>\n",
       "      <th>SocialShares</th>\n",
       "      <th>EmailOpens</th>\n",
       "      <th>EmailClicks</th>\n",
       "      <th>PreviousPurchases</th>\n",
       "      <th>LoyaltyPoints</th>\n",
       "      <th>AdvertisingPlatform</th>\n",
       "      <th>AdvertisingTool</th>\n",
       "      <th>Conversion</th>\n",
       "    </tr>\n",
       "  </thead>\n",
       "  <tbody>\n",
       "    <tr>\n",
       "      <th>7995</th>\n",
       "      <td>15995</td>\n",
       "      <td>21</td>\n",
       "      <td>Male</td>\n",
       "      <td>24849</td>\n",
       "      <td>Email</td>\n",
       "      <td>Awareness</td>\n",
       "      <td>8518.308575</td>\n",
       "      <td>0.243792</td>\n",
       "      <td>0.116773</td>\n",
       "      <td>23</td>\n",
       "      <td>9.693602</td>\n",
       "      <td>14.227794</td>\n",
       "      <td>70</td>\n",
       "      <td>13</td>\n",
       "      <td>6</td>\n",
       "      <td>7</td>\n",
       "      <td>286</td>\n",
       "      <td>IsConfid</td>\n",
       "      <td>ToolConfid</td>\n",
       "      <td>0</td>\n",
       "    </tr>\n",
       "    <tr>\n",
       "      <th>7996</th>\n",
       "      <td>15996</td>\n",
       "      <td>43</td>\n",
       "      <td>Female</td>\n",
       "      <td>44718</td>\n",
       "      <td>SEO</td>\n",
       "      <td>Retention</td>\n",
       "      <td>1424.613446</td>\n",
       "      <td>0.236740</td>\n",
       "      <td>0.190061</td>\n",
       "      <td>49</td>\n",
       "      <td>9.499010</td>\n",
       "      <td>3.501106</td>\n",
       "      <td>52</td>\n",
       "      <td>13</td>\n",
       "      <td>1</td>\n",
       "      <td>5</td>\n",
       "      <td>1502</td>\n",
       "      <td>IsConfid</td>\n",
       "      <td>ToolConfid</td>\n",
       "      <td>0</td>\n",
       "    </tr>\n",
       "    <tr>\n",
       "      <th>7997</th>\n",
       "      <td>15997</td>\n",
       "      <td>28</td>\n",
       "      <td>Female</td>\n",
       "      <td>125471</td>\n",
       "      <td>Referral</td>\n",
       "      <td>Consideration</td>\n",
       "      <td>4609.534635</td>\n",
       "      <td>0.056526</td>\n",
       "      <td>0.133826</td>\n",
       "      <td>35</td>\n",
       "      <td>2.853241</td>\n",
       "      <td>14.618323</td>\n",
       "      <td>38</td>\n",
       "      <td>16</td>\n",
       "      <td>0</td>\n",
       "      <td>3</td>\n",
       "      <td>738</td>\n",
       "      <td>IsConfid</td>\n",
       "      <td>ToolConfid</td>\n",
       "      <td>1</td>\n",
       "    </tr>\n",
       "    <tr>\n",
       "      <th>7998</th>\n",
       "      <td>15998</td>\n",
       "      <td>19</td>\n",
       "      <td>Female</td>\n",
       "      <td>107862</td>\n",
       "      <td>PPC</td>\n",
       "      <td>Consideration</td>\n",
       "      <td>9476.106354</td>\n",
       "      <td>0.023961</td>\n",
       "      <td>0.138386</td>\n",
       "      <td>49</td>\n",
       "      <td>1.002964</td>\n",
       "      <td>3.876623</td>\n",
       "      <td>86</td>\n",
       "      <td>1</td>\n",
       "      <td>5</td>\n",
       "      <td>7</td>\n",
       "      <td>2709</td>\n",
       "      <td>IsConfid</td>\n",
       "      <td>ToolConfid</td>\n",
       "      <td>1</td>\n",
       "    </tr>\n",
       "    <tr>\n",
       "      <th>7999</th>\n",
       "      <td>15999</td>\n",
       "      <td>31</td>\n",
       "      <td>Female</td>\n",
       "      <td>93002</td>\n",
       "      <td>Email</td>\n",
       "      <td>Awareness</td>\n",
       "      <td>7743.627070</td>\n",
       "      <td>0.185670</td>\n",
       "      <td>0.057228</td>\n",
       "      <td>15</td>\n",
       "      <td>6.964739</td>\n",
       "      <td>12.763660</td>\n",
       "      <td>2</td>\n",
       "      <td>18</td>\n",
       "      <td>9</td>\n",
       "      <td>9</td>\n",
       "      <td>341</td>\n",
       "      <td>IsConfid</td>\n",
       "      <td>ToolConfid</td>\n",
       "      <td>0</td>\n",
       "    </tr>\n",
       "  </tbody>\n",
       "</table>\n",
       "</div>"
      ],
      "text/plain": [
       "      CustomerID  Age  Gender  Income CampaignChannel   CampaignType  \\\n",
       "7995       15995   21    Male   24849           Email      Awareness   \n",
       "7996       15996   43  Female   44718             SEO      Retention   \n",
       "7997       15997   28  Female  125471        Referral  Consideration   \n",
       "7998       15998   19  Female  107862             PPC  Consideration   \n",
       "7999       15999   31  Female   93002           Email      Awareness   \n",
       "\n",
       "          AdSpend  ClickThroughRate  ConversionRate  WebsiteVisits  \\\n",
       "7995  8518.308575          0.243792        0.116773             23   \n",
       "7996  1424.613446          0.236740        0.190061             49   \n",
       "7997  4609.534635          0.056526        0.133826             35   \n",
       "7998  9476.106354          0.023961        0.138386             49   \n",
       "7999  7743.627070          0.185670        0.057228             15   \n",
       "\n",
       "      PagesPerVisit  TimeOnSite  SocialShares  EmailOpens  EmailClicks  \\\n",
       "7995       9.693602   14.227794            70          13            6   \n",
       "7996       9.499010    3.501106            52          13            1   \n",
       "7997       2.853241   14.618323            38          16            0   \n",
       "7998       1.002964    3.876623            86           1            5   \n",
       "7999       6.964739   12.763660             2          18            9   \n",
       "\n",
       "      PreviousPurchases  LoyaltyPoints AdvertisingPlatform AdvertisingTool  \\\n",
       "7995                  7            286            IsConfid      ToolConfid   \n",
       "7996                  5           1502            IsConfid      ToolConfid   \n",
       "7997                  3            738            IsConfid      ToolConfid   \n",
       "7998                  7           2709            IsConfid      ToolConfid   \n",
       "7999                  9            341            IsConfid      ToolConfid   \n",
       "\n",
       "      Conversion  \n",
       "7995           0  \n",
       "7996           0  \n",
       "7997           1  \n",
       "7998           1  \n",
       "7999           0  "
      ]
     },
     "execution_count": 4,
     "metadata": {},
     "output_type": "execute_result"
    }
   ],
   "source": [
    "df.tail()"
   ]
  },
  {
   "cell_type": "code",
   "execution_count": null,
   "metadata": {
    "colab": {
     "base_uri": "https://localhost:8080/",
     "height": 739
    },
    "executionInfo": {
     "elapsed": 686,
     "status": "ok",
     "timestamp": 1732801989237,
     "user": {
      "displayName": "QUYẾT LÊ",
      "userId": "10351380661436045253"
     },
     "user_tz": -420
    },
    "id": "RuUslp_I1RtH",
    "outputId": "6d8f5a0c-5be8-4872-e2c1-3cd42f4e5bd0"
   },
   "outputs": [
    {
     "data": {
      "text/html": [
       "<pre style=\"white-space:pre;overflow-x:auto;line-height:normal;font-family:Menlo,'DejaVu Sans Mono',consolas,'Courier New',monospace\">╭──────────────────────────────────────────────── skimpy summary ─────────────────────────────────────────────────╮\n",
       "│ <span style=\"font-style: italic\">         Data Summary         </span> <span style=\"font-style: italic\">      Data Types       </span>                                                          │\n",
       "│ ┏━━━━━━━━━━━━━━━━━━━┳━━━━━━━━┓ ┏━━━━━━━━━━━━━┳━━━━━━━┓                                                          │\n",
       "│ ┃<span style=\"color: #008080; text-decoration-color: #008080; font-weight: bold\"> dataframe         </span>┃<span style=\"color: #008080; text-decoration-color: #008080; font-weight: bold\"> Values </span>┃ ┃<span style=\"color: #008080; text-decoration-color: #008080; font-weight: bold\"> Column Type </span>┃<span style=\"color: #008080; text-decoration-color: #008080; font-weight: bold\"> Count </span>┃                                                          │\n",
       "│ ┡━━━━━━━━━━━━━━━━━━━╇━━━━━━━━┩ ┡━━━━━━━━━━━━━╇━━━━━━━┩                                                          │\n",
       "│ │ Number of rows    │ 8000   │ │ int64       │ 10    │                                                          │\n",
       "│ │ Number of columns │ 20     │ │ string      │ 5     │                                                          │\n",
       "│ └───────────────────┴────────┘ │ float64     │ 5     │                                                          │\n",
       "│                                └─────────────┴───────┘                                                          │\n",
       "│ <span style=\"font-style: italic\">                                                    number                                                    </span>  │\n",
       "│ ┏━━━━━━━━━━━━━━━━━━━━┳━━━━━┳━━━━━━┳━━━━━━━━┳━━━━━━━━━┳━━━━━━━━━┳━━━━━━━━━┳━━━━━━━━┳━━━━━━━━┳━━━━━━━━┳━━━━━━━━┓  │\n",
       "│ ┃<span style=\"font-weight: bold\"> column_name        </span>┃<span style=\"font-weight: bold\"> NA  </span>┃<span style=\"font-weight: bold\"> NA % </span>┃<span style=\"font-weight: bold\"> mean   </span>┃<span style=\"font-weight: bold\"> sd      </span>┃<span style=\"font-weight: bold\"> p0      </span>┃<span style=\"font-weight: bold\"> p25     </span>┃<span style=\"font-weight: bold\"> p50    </span>┃<span style=\"font-weight: bold\"> p75    </span>┃<span style=\"font-weight: bold\"> p100   </span>┃<span style=\"font-weight: bold\"> hist   </span>┃  │\n",
       "│ ┡━━━━━━━━━━━━━━━━━━━━╇━━━━━╇━━━━━━╇━━━━━━━━╇━━━━━━━━━╇━━━━━━━━━╇━━━━━━━━━╇━━━━━━━━╇━━━━━━━━╇━━━━━━━━╇━━━━━━━━┩  │\n",
       "│ │ <span style=\"color: #af87ff; text-decoration-color: #af87ff\">CustomerID        </span> │ <span style=\"color: #008080; text-decoration-color: #008080\">  0</span> │ <span style=\"color: #008080; text-decoration-color: #008080\">   0</span> │ <span style=\"color: #008080; text-decoration-color: #008080\"> 12000</span> │ <span style=\"color: #008080; text-decoration-color: #008080\">   2310</span> │ <span style=\"color: #008080; text-decoration-color: #008080\">   8000</span> │ <span style=\"color: #008080; text-decoration-color: #008080\">  10000</span> │ <span style=\"color: #008080; text-decoration-color: #008080\"> 12000</span> │ <span style=\"color: #008080; text-decoration-color: #008080\"> 14000</span> │ <span style=\"color: #008080; text-decoration-color: #008080\"> 16000</span> │ <span style=\"color: #008000; text-decoration-color: #008000\">▇▇▇▇▇▇</span> │  │\n",
       "│ │ <span style=\"color: #af87ff; text-decoration-color: #af87ff\">Age               </span> │ <span style=\"color: #008080; text-decoration-color: #008080\">  0</span> │ <span style=\"color: #008080; text-decoration-color: #008080\">   0</span> │ <span style=\"color: #008080; text-decoration-color: #008080\"> 43.63</span> │ <span style=\"color: #008080; text-decoration-color: #008080\">   14.9</span> │ <span style=\"color: #008080; text-decoration-color: #008080\">     18</span> │ <span style=\"color: #008080; text-decoration-color: #008080\">     31</span> │ <span style=\"color: #008080; text-decoration-color: #008080\">    43</span> │ <span style=\"color: #008080; text-decoration-color: #008080\">    56</span> │ <span style=\"color: #008080; text-decoration-color: #008080\">    69</span> │ <span style=\"color: #008000; text-decoration-color: #008000\">▇▇▇▇▇▇</span> │  │\n",
       "│ │ <span style=\"color: #af87ff; text-decoration-color: #af87ff\">Income            </span> │ <span style=\"color: #008080; text-decoration-color: #008080\">  0</span> │ <span style=\"color: #008080; text-decoration-color: #008080\">   0</span> │ <span style=\"color: #008080; text-decoration-color: #008080\"> 84660</span> │ <span style=\"color: #008080; text-decoration-color: #008080\">  37580</span> │ <span style=\"color: #008080; text-decoration-color: #008080\">  20010</span> │ <span style=\"color: #008080; text-decoration-color: #008080\">  51740</span> │ <span style=\"color: #008080; text-decoration-color: #008080\"> 84930</span> │ <span style=\"color: #008080; text-decoration-color: #008080\">116800</span> │ <span style=\"color: #008080; text-decoration-color: #008080\">150000</span> │ <span style=\"color: #008000; text-decoration-color: #008000\">▇▇▇▇▇▇</span> │  │\n",
       "│ │ <span style=\"color: #af87ff; text-decoration-color: #af87ff\">AdSpend           </span> │ <span style=\"color: #008080; text-decoration-color: #008080\">  0</span> │ <span style=\"color: #008080; text-decoration-color: #008080\">   0</span> │ <span style=\"color: #008080; text-decoration-color: #008080\">  5001</span> │ <span style=\"color: #008080; text-decoration-color: #008080\">   2838</span> │ <span style=\"color: #008080; text-decoration-color: #008080\">  100.1</span> │ <span style=\"color: #008080; text-decoration-color: #008080\">   2523</span> │ <span style=\"color: #008080; text-decoration-color: #008080\">  5013</span> │ <span style=\"color: #008080; text-decoration-color: #008080\">  7408</span> │ <span style=\"color: #008080; text-decoration-color: #008080\">  9998</span> │ <span style=\"color: #008000; text-decoration-color: #008000\">▇▇▇▇▇▇</span> │  │\n",
       "│ │ <span style=\"color: #af87ff; text-decoration-color: #af87ff\">ClickThroughRate  </span> │ <span style=\"color: #008080; text-decoration-color: #008080\">  0</span> │ <span style=\"color: #008080; text-decoration-color: #008080\">   0</span> │ <span style=\"color: #008080; text-decoration-color: #008080\">0.1548</span> │ <span style=\"color: #008080; text-decoration-color: #008080\">0.08401</span> │ <span style=\"color: #008080; text-decoration-color: #008080\">   0.01</span> │ <span style=\"color: #008080; text-decoration-color: #008080\">0.08263</span> │ <span style=\"color: #008080; text-decoration-color: #008080\">0.1545</span> │ <span style=\"color: #008080; text-decoration-color: #008080\">0.2282</span> │ <span style=\"color: #008080; text-decoration-color: #008080\">   0.3</span> │ <span style=\"color: #008000; text-decoration-color: #008000\">▇▇▇▇▇▇</span> │  │\n",
       "│ │ <span style=\"color: #af87ff; text-decoration-color: #af87ff\">ConversionRate    </span> │ <span style=\"color: #008080; text-decoration-color: #008080\">  0</span> │ <span style=\"color: #008080; text-decoration-color: #008080\">   0</span> │ <span style=\"color: #008080; text-decoration-color: #008080\">0.1044</span> │ <span style=\"color: #008080; text-decoration-color: #008080\">0.05488</span> │ <span style=\"color: #008080; text-decoration-color: #008080\">0.01002</span> │ <span style=\"color: #008080; text-decoration-color: #008080\">0.05641</span> │ <span style=\"color: #008080; text-decoration-color: #008080\"> 0.104</span> │ <span style=\"color: #008080; text-decoration-color: #008080\">0.1521</span> │ <span style=\"color: #008080; text-decoration-color: #008080\">   0.2</span> │ <span style=\"color: #008000; text-decoration-color: #008000\">▇▇▇▇▇▇</span> │  │\n",
       "│ │ <span style=\"color: #af87ff; text-decoration-color: #af87ff\">WebsiteVisits     </span> │ <span style=\"color: #008080; text-decoration-color: #008080\">  0</span> │ <span style=\"color: #008080; text-decoration-color: #008080\">   0</span> │ <span style=\"color: #008080; text-decoration-color: #008080\"> 24.75</span> │ <span style=\"color: #008080; text-decoration-color: #008080\">  14.31</span> │ <span style=\"color: #008080; text-decoration-color: #008080\">      0</span> │ <span style=\"color: #008080; text-decoration-color: #008080\">     13</span> │ <span style=\"color: #008080; text-decoration-color: #008080\">    25</span> │ <span style=\"color: #008080; text-decoration-color: #008080\">    37</span> │ <span style=\"color: #008080; text-decoration-color: #008080\">    49</span> │ <span style=\"color: #008000; text-decoration-color: #008000\">▇▇▇▇▇▇</span> │  │\n",
       "│ │ <span style=\"color: #af87ff; text-decoration-color: #af87ff\">PagesPerVisit     </span> │ <span style=\"color: #008080; text-decoration-color: #008080\">  0</span> │ <span style=\"color: #008080; text-decoration-color: #008080\">   0</span> │ <span style=\"color: #008080; text-decoration-color: #008080\"> 5.549</span> │ <span style=\"color: #008080; text-decoration-color: #008080\">  2.607</span> │ <span style=\"color: #008080; text-decoration-color: #008080\">      1</span> │ <span style=\"color: #008080; text-decoration-color: #008080\">  3.302</span> │ <span style=\"color: #008080; text-decoration-color: #008080\"> 5.534</span> │ <span style=\"color: #008080; text-decoration-color: #008080\"> 7.836</span> │ <span style=\"color: #008080; text-decoration-color: #008080\"> 9.999</span> │ <span style=\"color: #008000; text-decoration-color: #008000\">▇▇▇▇▇▇</span> │  │\n",
       "│ │ <span style=\"color: #af87ff; text-decoration-color: #af87ff\">TimeOnSite        </span> │ <span style=\"color: #008080; text-decoration-color: #008080\">  0</span> │ <span style=\"color: #008080; text-decoration-color: #008080\">   0</span> │ <span style=\"color: #008080; text-decoration-color: #008080\"> 7.728</span> │ <span style=\"color: #008080; text-decoration-color: #008080\">  4.228</span> │ <span style=\"color: #008080; text-decoration-color: #008080\"> 0.5017</span> │ <span style=\"color: #008080; text-decoration-color: #008080\">  4.068</span> │ <span style=\"color: #008080; text-decoration-color: #008080\"> 7.683</span> │ <span style=\"color: #008080; text-decoration-color: #008080\"> 11.48</span> │ <span style=\"color: #008080; text-decoration-color: #008080\">    15</span> │ <span style=\"color: #008000; text-decoration-color: #008000\">▇▇▇▇▇▇</span> │  │\n",
       "│ │ <span style=\"color: #af87ff; text-decoration-color: #af87ff\">SocialShares      </span> │ <span style=\"color: #008080; text-decoration-color: #008080\">  0</span> │ <span style=\"color: #008080; text-decoration-color: #008080\">   0</span> │ <span style=\"color: #008080; text-decoration-color: #008080\">  49.8</span> │ <span style=\"color: #008080; text-decoration-color: #008080\">   28.9</span> │ <span style=\"color: #008080; text-decoration-color: #008080\">      0</span> │ <span style=\"color: #008080; text-decoration-color: #008080\">     25</span> │ <span style=\"color: #008080; text-decoration-color: #008080\">    50</span> │ <span style=\"color: #008080; text-decoration-color: #008080\">    75</span> │ <span style=\"color: #008080; text-decoration-color: #008080\">    99</span> │ <span style=\"color: #008000; text-decoration-color: #008000\">▇▇▇▇▇▇</span> │  │\n",
       "│ │ <span style=\"color: #af87ff; text-decoration-color: #af87ff\">EmailOpens        </span> │ <span style=\"color: #008080; text-decoration-color: #008080\">  0</span> │ <span style=\"color: #008080; text-decoration-color: #008080\">   0</span> │ <span style=\"color: #008080; text-decoration-color: #008080\"> 9.477</span> │ <span style=\"color: #008080; text-decoration-color: #008080\">  5.711</span> │ <span style=\"color: #008080; text-decoration-color: #008080\">      0</span> │ <span style=\"color: #008080; text-decoration-color: #008080\">      5</span> │ <span style=\"color: #008080; text-decoration-color: #008080\">     9</span> │ <span style=\"color: #008080; text-decoration-color: #008080\">    14</span> │ <span style=\"color: #008080; text-decoration-color: #008080\">    19</span> │ <span style=\"color: #008000; text-decoration-color: #008000\">▇▆▇▆▆▇</span> │  │\n",
       "│ │ <span style=\"color: #af87ff; text-decoration-color: #af87ff\">EmailClicks       </span> │ <span style=\"color: #008080; text-decoration-color: #008080\">  0</span> │ <span style=\"color: #008080; text-decoration-color: #008080\">   0</span> │ <span style=\"color: #008080; text-decoration-color: #008080\"> 4.467</span> │ <span style=\"color: #008080; text-decoration-color: #008080\">  2.857</span> │ <span style=\"color: #008080; text-decoration-color: #008080\">      0</span> │ <span style=\"color: #008080; text-decoration-color: #008080\">      2</span> │ <span style=\"color: #008080; text-decoration-color: #008080\">     4</span> │ <span style=\"color: #008080; text-decoration-color: #008080\">     7</span> │ <span style=\"color: #008080; text-decoration-color: #008080\">     9</span> │ <span style=\"color: #008000; text-decoration-color: #008000\">▇▃▇▃▇▇</span> │  │\n",
       "│ │ <span style=\"color: #af87ff; text-decoration-color: #af87ff\">PreviousPurchases </span> │ <span style=\"color: #008080; text-decoration-color: #008080\">  0</span> │ <span style=\"color: #008080; text-decoration-color: #008080\">   0</span> │ <span style=\"color: #008080; text-decoration-color: #008080\"> 4.486</span> │ <span style=\"color: #008080; text-decoration-color: #008080\">  2.888</span> │ <span style=\"color: #008080; text-decoration-color: #008080\">      0</span> │ <span style=\"color: #008080; text-decoration-color: #008080\">      2</span> │ <span style=\"color: #008080; text-decoration-color: #008080\">     4</span> │ <span style=\"color: #008080; text-decoration-color: #008080\">     7</span> │ <span style=\"color: #008080; text-decoration-color: #008080\">     9</span> │ <span style=\"color: #008000; text-decoration-color: #008000\">▇▃▇▃▇▇</span> │  │\n",
       "│ │ <span style=\"color: #af87ff; text-decoration-color: #af87ff\">LoyaltyPoints     </span> │ <span style=\"color: #008080; text-decoration-color: #008080\">  0</span> │ <span style=\"color: #008080; text-decoration-color: #008080\">   0</span> │ <span style=\"color: #008080; text-decoration-color: #008080\">  2490</span> │ <span style=\"color: #008080; text-decoration-color: #008080\">   1430</span> │ <span style=\"color: #008080; text-decoration-color: #008080\">      0</span> │ <span style=\"color: #008080; text-decoration-color: #008080\">   1255</span> │ <span style=\"color: #008080; text-decoration-color: #008080\">  2497</span> │ <span style=\"color: #008080; text-decoration-color: #008080\">  3702</span> │ <span style=\"color: #008080; text-decoration-color: #008080\">  4999</span> │ <span style=\"color: #008000; text-decoration-color: #008000\">▇▇▇▇▇▇</span> │  │\n",
       "│ │ <span style=\"color: #af87ff; text-decoration-color: #af87ff\">Conversion        </span> │ <span style=\"color: #008080; text-decoration-color: #008080\">  0</span> │ <span style=\"color: #008080; text-decoration-color: #008080\">   0</span> │ <span style=\"color: #008080; text-decoration-color: #008080\">0.8765</span> │ <span style=\"color: #008080; text-decoration-color: #008080\">  0.329</span> │ <span style=\"color: #008080; text-decoration-color: #008080\">      0</span> │ <span style=\"color: #008080; text-decoration-color: #008080\">      1</span> │ <span style=\"color: #008080; text-decoration-color: #008080\">     1</span> │ <span style=\"color: #008080; text-decoration-color: #008080\">     1</span> │ <span style=\"color: #008080; text-decoration-color: #008080\">     1</span> │ <span style=\"color: #008000; text-decoration-color: #008000\">▁    ▇</span> │  │\n",
       "│ └────────────────────┴─────┴──────┴────────┴─────────┴─────────┴─────────┴────────┴────────┴────────┴────────┘  │\n",
       "│ <span style=\"font-style: italic\">                                                    string                                                    </span>  │\n",
       "│ ┏━━━━━━━━━━━━━━━━━━━━━━━━━━━━━━━━━━━━━━┳━━━━━━━┳━━━━━━━━━━━┳━━━━━━━━━━━━━━━━━━━━━━━━━━┳━━━━━━━━━━━━━━━━━━━━━━┓  │\n",
       "│ ┃<span style=\"font-weight: bold\"> column_name                          </span>┃<span style=\"font-weight: bold\"> NA    </span>┃<span style=\"font-weight: bold\"> NA %      </span>┃<span style=\"font-weight: bold\"> words per row            </span>┃<span style=\"font-weight: bold\"> total words          </span>┃  │\n",
       "│ ┡━━━━━━━━━━━━━━━━━━━━━━━━━━━━━━━━━━━━━━╇━━━━━━━╇━━━━━━━━━━━╇━━━━━━━━━━━━━━━━━━━━━━━━━━╇━━━━━━━━━━━━━━━━━━━━━━┩  │\n",
       "│ │ <span style=\"color: #af87ff; text-decoration-color: #af87ff\">Gender                              </span> │ <span style=\"color: #008080; text-decoration-color: #008080\">    0</span> │ <span style=\"color: #008080; text-decoration-color: #008080\">        0</span> │ <span style=\"color: #008080; text-decoration-color: #008080\">                       1</span> │ <span style=\"color: #008080; text-decoration-color: #008080\">                8000</span> │  │\n",
       "│ │ <span style=\"color: #af87ff; text-decoration-color: #af87ff\">CampaignChannel                     </span> │ <span style=\"color: #008080; text-decoration-color: #008080\">    0</span> │ <span style=\"color: #008080; text-decoration-color: #008080\">        0</span> │ <span style=\"color: #008080; text-decoration-color: #008080\">                     1.2</span> │ <span style=\"color: #008080; text-decoration-color: #008080\">                9519</span> │  │\n",
       "│ │ <span style=\"color: #af87ff; text-decoration-color: #af87ff\">CampaignType                        </span> │ <span style=\"color: #008080; text-decoration-color: #008080\">    0</span> │ <span style=\"color: #008080; text-decoration-color: #008080\">        0</span> │ <span style=\"color: #008080; text-decoration-color: #008080\">                       1</span> │ <span style=\"color: #008080; text-decoration-color: #008080\">                8000</span> │  │\n",
       "│ │ <span style=\"color: #af87ff; text-decoration-color: #af87ff\">AdvertisingPlatform                 </span> │ <span style=\"color: #008080; text-decoration-color: #008080\">    0</span> │ <span style=\"color: #008080; text-decoration-color: #008080\">        0</span> │ <span style=\"color: #008080; text-decoration-color: #008080\">                       1</span> │ <span style=\"color: #008080; text-decoration-color: #008080\">                8000</span> │  │\n",
       "│ │ <span style=\"color: #af87ff; text-decoration-color: #af87ff\">AdvertisingTool                     </span> │ <span style=\"color: #008080; text-decoration-color: #008080\">    0</span> │ <span style=\"color: #008080; text-decoration-color: #008080\">        0</span> │ <span style=\"color: #008080; text-decoration-color: #008080\">                       1</span> │ <span style=\"color: #008080; text-decoration-color: #008080\">                8000</span> │  │\n",
       "│ └──────────────────────────────────────┴───────┴───────────┴──────────────────────────┴──────────────────────┘  │\n",
       "╰────────────────────────────────────────────────────── End ──────────────────────────────────────────────────────╯\n",
       "</pre>\n"
      ],
      "text/plain": [
       "╭──────────────────────────────────────────────── skimpy summary ─────────────────────────────────────────────────╮\n",
       "│ \u001b[3m         Data Summary         \u001b[0m \u001b[3m      Data Types       \u001b[0m                                                          │\n",
       "│ ┏━━━━━━━━━━━━━━━━━━━┳━━━━━━━━┓ ┏━━━━━━━━━━━━━┳━━━━━━━┓                                                          │\n",
       "│ ┃\u001b[1;36m \u001b[0m\u001b[1;36mdataframe        \u001b[0m\u001b[1;36m \u001b[0m┃\u001b[1;36m \u001b[0m\u001b[1;36mValues\u001b[0m\u001b[1;36m \u001b[0m┃ ┃\u001b[1;36m \u001b[0m\u001b[1;36mColumn Type\u001b[0m\u001b[1;36m \u001b[0m┃\u001b[1;36m \u001b[0m\u001b[1;36mCount\u001b[0m\u001b[1;36m \u001b[0m┃                                                          │\n",
       "│ ┡━━━━━━━━━━━━━━━━━━━╇━━━━━━━━┩ ┡━━━━━━━━━━━━━╇━━━━━━━┩                                                          │\n",
       "│ │ Number of rows    │ 8000   │ │ int64       │ 10    │                                                          │\n",
       "│ │ Number of columns │ 20     │ │ string      │ 5     │                                                          │\n",
       "│ └───────────────────┴────────┘ │ float64     │ 5     │                                                          │\n",
       "│                                └─────────────┴───────┘                                                          │\n",
       "│ \u001b[3m                                                    number                                                    \u001b[0m  │\n",
       "│ ┏━━━━━━━━━━━━━━━━━━━━┳━━━━━┳━━━━━━┳━━━━━━━━┳━━━━━━━━━┳━━━━━━━━━┳━━━━━━━━━┳━━━━━━━━┳━━━━━━━━┳━━━━━━━━┳━━━━━━━━┓  │\n",
       "│ ┃\u001b[1m \u001b[0m\u001b[1mcolumn_name       \u001b[0m\u001b[1m \u001b[0m┃\u001b[1m \u001b[0m\u001b[1mNA \u001b[0m\u001b[1m \u001b[0m┃\u001b[1m \u001b[0m\u001b[1mNA %\u001b[0m\u001b[1m \u001b[0m┃\u001b[1m \u001b[0m\u001b[1mmean  \u001b[0m\u001b[1m \u001b[0m┃\u001b[1m \u001b[0m\u001b[1msd     \u001b[0m\u001b[1m \u001b[0m┃\u001b[1m \u001b[0m\u001b[1mp0     \u001b[0m\u001b[1m \u001b[0m┃\u001b[1m \u001b[0m\u001b[1mp25    \u001b[0m\u001b[1m \u001b[0m┃\u001b[1m \u001b[0m\u001b[1mp50   \u001b[0m\u001b[1m \u001b[0m┃\u001b[1m \u001b[0m\u001b[1mp75   \u001b[0m\u001b[1m \u001b[0m┃\u001b[1m \u001b[0m\u001b[1mp100  \u001b[0m\u001b[1m \u001b[0m┃\u001b[1m \u001b[0m\u001b[1mhist  \u001b[0m\u001b[1m \u001b[0m┃  │\n",
       "│ ┡━━━━━━━━━━━━━━━━━━━━╇━━━━━╇━━━━━━╇━━━━━━━━╇━━━━━━━━━╇━━━━━━━━━╇━━━━━━━━━╇━━━━━━━━╇━━━━━━━━╇━━━━━━━━╇━━━━━━━━┩  │\n",
       "│ │ \u001b[38;5;141mCustomerID        \u001b[0m │ \u001b[36m  0\u001b[0m │ \u001b[36m   0\u001b[0m │ \u001b[36m 12000\u001b[0m │ \u001b[36m   2310\u001b[0m │ \u001b[36m   8000\u001b[0m │ \u001b[36m  10000\u001b[0m │ \u001b[36m 12000\u001b[0m │ \u001b[36m 14000\u001b[0m │ \u001b[36m 16000\u001b[0m │ \u001b[32m▇▇▇▇▇▇\u001b[0m │  │\n",
       "│ │ \u001b[38;5;141mAge               \u001b[0m │ \u001b[36m  0\u001b[0m │ \u001b[36m   0\u001b[0m │ \u001b[36m 43.63\u001b[0m │ \u001b[36m   14.9\u001b[0m │ \u001b[36m     18\u001b[0m │ \u001b[36m     31\u001b[0m │ \u001b[36m    43\u001b[0m │ \u001b[36m    56\u001b[0m │ \u001b[36m    69\u001b[0m │ \u001b[32m▇▇▇▇▇▇\u001b[0m │  │\n",
       "│ │ \u001b[38;5;141mIncome            \u001b[0m │ \u001b[36m  0\u001b[0m │ \u001b[36m   0\u001b[0m │ \u001b[36m 84660\u001b[0m │ \u001b[36m  37580\u001b[0m │ \u001b[36m  20010\u001b[0m │ \u001b[36m  51740\u001b[0m │ \u001b[36m 84930\u001b[0m │ \u001b[36m116800\u001b[0m │ \u001b[36m150000\u001b[0m │ \u001b[32m▇▇▇▇▇▇\u001b[0m │  │\n",
       "│ │ \u001b[38;5;141mAdSpend           \u001b[0m │ \u001b[36m  0\u001b[0m │ \u001b[36m   0\u001b[0m │ \u001b[36m  5001\u001b[0m │ \u001b[36m   2838\u001b[0m │ \u001b[36m  100.1\u001b[0m │ \u001b[36m   2523\u001b[0m │ \u001b[36m  5013\u001b[0m │ \u001b[36m  7408\u001b[0m │ \u001b[36m  9998\u001b[0m │ \u001b[32m▇▇▇▇▇▇\u001b[0m │  │\n",
       "│ │ \u001b[38;5;141mClickThroughRate  \u001b[0m │ \u001b[36m  0\u001b[0m │ \u001b[36m   0\u001b[0m │ \u001b[36m0.1548\u001b[0m │ \u001b[36m0.08401\u001b[0m │ \u001b[36m   0.01\u001b[0m │ \u001b[36m0.08263\u001b[0m │ \u001b[36m0.1545\u001b[0m │ \u001b[36m0.2282\u001b[0m │ \u001b[36m   0.3\u001b[0m │ \u001b[32m▇▇▇▇▇▇\u001b[0m │  │\n",
       "│ │ \u001b[38;5;141mConversionRate    \u001b[0m │ \u001b[36m  0\u001b[0m │ \u001b[36m   0\u001b[0m │ \u001b[36m0.1044\u001b[0m │ \u001b[36m0.05488\u001b[0m │ \u001b[36m0.01002\u001b[0m │ \u001b[36m0.05641\u001b[0m │ \u001b[36m 0.104\u001b[0m │ \u001b[36m0.1521\u001b[0m │ \u001b[36m   0.2\u001b[0m │ \u001b[32m▇▇▇▇▇▇\u001b[0m │  │\n",
       "│ │ \u001b[38;5;141mWebsiteVisits     \u001b[0m │ \u001b[36m  0\u001b[0m │ \u001b[36m   0\u001b[0m │ \u001b[36m 24.75\u001b[0m │ \u001b[36m  14.31\u001b[0m │ \u001b[36m      0\u001b[0m │ \u001b[36m     13\u001b[0m │ \u001b[36m    25\u001b[0m │ \u001b[36m    37\u001b[0m │ \u001b[36m    49\u001b[0m │ \u001b[32m▇▇▇▇▇▇\u001b[0m │  │\n",
       "│ │ \u001b[38;5;141mPagesPerVisit     \u001b[0m │ \u001b[36m  0\u001b[0m │ \u001b[36m   0\u001b[0m │ \u001b[36m 5.549\u001b[0m │ \u001b[36m  2.607\u001b[0m │ \u001b[36m      1\u001b[0m │ \u001b[36m  3.302\u001b[0m │ \u001b[36m 5.534\u001b[0m │ \u001b[36m 7.836\u001b[0m │ \u001b[36m 9.999\u001b[0m │ \u001b[32m▇▇▇▇▇▇\u001b[0m │  │\n",
       "│ │ \u001b[38;5;141mTimeOnSite        \u001b[0m │ \u001b[36m  0\u001b[0m │ \u001b[36m   0\u001b[0m │ \u001b[36m 7.728\u001b[0m │ \u001b[36m  4.228\u001b[0m │ \u001b[36m 0.5017\u001b[0m │ \u001b[36m  4.068\u001b[0m │ \u001b[36m 7.683\u001b[0m │ \u001b[36m 11.48\u001b[0m │ \u001b[36m    15\u001b[0m │ \u001b[32m▇▇▇▇▇▇\u001b[0m │  │\n",
       "│ │ \u001b[38;5;141mSocialShares      \u001b[0m │ \u001b[36m  0\u001b[0m │ \u001b[36m   0\u001b[0m │ \u001b[36m  49.8\u001b[0m │ \u001b[36m   28.9\u001b[0m │ \u001b[36m      0\u001b[0m │ \u001b[36m     25\u001b[0m │ \u001b[36m    50\u001b[0m │ \u001b[36m    75\u001b[0m │ \u001b[36m    99\u001b[0m │ \u001b[32m▇▇▇▇▇▇\u001b[0m │  │\n",
       "│ │ \u001b[38;5;141mEmailOpens        \u001b[0m │ \u001b[36m  0\u001b[0m │ \u001b[36m   0\u001b[0m │ \u001b[36m 9.477\u001b[0m │ \u001b[36m  5.711\u001b[0m │ \u001b[36m      0\u001b[0m │ \u001b[36m      5\u001b[0m │ \u001b[36m     9\u001b[0m │ \u001b[36m    14\u001b[0m │ \u001b[36m    19\u001b[0m │ \u001b[32m▇▆▇▆▆▇\u001b[0m │  │\n",
       "│ │ \u001b[38;5;141mEmailClicks       \u001b[0m │ \u001b[36m  0\u001b[0m │ \u001b[36m   0\u001b[0m │ \u001b[36m 4.467\u001b[0m │ \u001b[36m  2.857\u001b[0m │ \u001b[36m      0\u001b[0m │ \u001b[36m      2\u001b[0m │ \u001b[36m     4\u001b[0m │ \u001b[36m     7\u001b[0m │ \u001b[36m     9\u001b[0m │ \u001b[32m▇▃▇▃▇▇\u001b[0m │  │\n",
       "│ │ \u001b[38;5;141mPreviousPurchases \u001b[0m │ \u001b[36m  0\u001b[0m │ \u001b[36m   0\u001b[0m │ \u001b[36m 4.486\u001b[0m │ \u001b[36m  2.888\u001b[0m │ \u001b[36m      0\u001b[0m │ \u001b[36m      2\u001b[0m │ \u001b[36m     4\u001b[0m │ \u001b[36m     7\u001b[0m │ \u001b[36m     9\u001b[0m │ \u001b[32m▇▃▇▃▇▇\u001b[0m │  │\n",
       "│ │ \u001b[38;5;141mLoyaltyPoints     \u001b[0m │ \u001b[36m  0\u001b[0m │ \u001b[36m   0\u001b[0m │ \u001b[36m  2490\u001b[0m │ \u001b[36m   1430\u001b[0m │ \u001b[36m      0\u001b[0m │ \u001b[36m   1255\u001b[0m │ \u001b[36m  2497\u001b[0m │ \u001b[36m  3702\u001b[0m │ \u001b[36m  4999\u001b[0m │ \u001b[32m▇▇▇▇▇▇\u001b[0m │  │\n",
       "│ │ \u001b[38;5;141mConversion        \u001b[0m │ \u001b[36m  0\u001b[0m │ \u001b[36m   0\u001b[0m │ \u001b[36m0.8765\u001b[0m │ \u001b[36m  0.329\u001b[0m │ \u001b[36m      0\u001b[0m │ \u001b[36m      1\u001b[0m │ \u001b[36m     1\u001b[0m │ \u001b[36m     1\u001b[0m │ \u001b[36m     1\u001b[0m │ \u001b[32m▁    ▇\u001b[0m │  │\n",
       "│ └────────────────────┴─────┴──────┴────────┴─────────┴─────────┴─────────┴────────┴────────┴────────┴────────┘  │\n",
       "│ \u001b[3m                                                    string                                                    \u001b[0m  │\n",
       "│ ┏━━━━━━━━━━━━━━━━━━━━━━━━━━━━━━━━━━━━━━┳━━━━━━━┳━━━━━━━━━━━┳━━━━━━━━━━━━━━━━━━━━━━━━━━┳━━━━━━━━━━━━━━━━━━━━━━┓  │\n",
       "│ ┃\u001b[1m \u001b[0m\u001b[1mcolumn_name                         \u001b[0m\u001b[1m \u001b[0m┃\u001b[1m \u001b[0m\u001b[1mNA   \u001b[0m\u001b[1m \u001b[0m┃\u001b[1m \u001b[0m\u001b[1mNA %     \u001b[0m\u001b[1m \u001b[0m┃\u001b[1m \u001b[0m\u001b[1mwords per row           \u001b[0m\u001b[1m \u001b[0m┃\u001b[1m \u001b[0m\u001b[1mtotal words         \u001b[0m\u001b[1m \u001b[0m┃  │\n",
       "│ ┡━━━━━━━━━━━━━━━━━━━━━━━━━━━━━━━━━━━━━━╇━━━━━━━╇━━━━━━━━━━━╇━━━━━━━━━━━━━━━━━━━━━━━━━━╇━━━━━━━━━━━━━━━━━━━━━━┩  │\n",
       "│ │ \u001b[38;5;141mGender                              \u001b[0m │ \u001b[36m    0\u001b[0m │ \u001b[36m        0\u001b[0m │ \u001b[36m                       1\u001b[0m │ \u001b[36m                8000\u001b[0m │  │\n",
       "│ │ \u001b[38;5;141mCampaignChannel                     \u001b[0m │ \u001b[36m    0\u001b[0m │ \u001b[36m        0\u001b[0m │ \u001b[36m                     1.2\u001b[0m │ \u001b[36m                9519\u001b[0m │  │\n",
       "│ │ \u001b[38;5;141mCampaignType                        \u001b[0m │ \u001b[36m    0\u001b[0m │ \u001b[36m        0\u001b[0m │ \u001b[36m                       1\u001b[0m │ \u001b[36m                8000\u001b[0m │  │\n",
       "│ │ \u001b[38;5;141mAdvertisingPlatform                 \u001b[0m │ \u001b[36m    0\u001b[0m │ \u001b[36m        0\u001b[0m │ \u001b[36m                       1\u001b[0m │ \u001b[36m                8000\u001b[0m │  │\n",
       "│ │ \u001b[38;5;141mAdvertisingTool                     \u001b[0m │ \u001b[36m    0\u001b[0m │ \u001b[36m        0\u001b[0m │ \u001b[36m                       1\u001b[0m │ \u001b[36m                8000\u001b[0m │  │\n",
       "│ └──────────────────────────────────────┴───────┴───────────┴──────────────────────────┴──────────────────────┘  │\n",
       "╰────────────────────────────────────────────────────── End ──────────────────────────────────────────────────────╯\n"
      ]
     },
     "metadata": {},
     "output_type": "display_data"
    }
   ],
   "source": [
    "skim(df)"
   ]
  },
  {
   "cell_type": "code",
   "execution_count": 5,
   "metadata": {
    "colab": {
     "base_uri": "https://localhost:8080/"
    },
    "executionInfo": {
     "elapsed": 301,
     "status": "ok",
     "timestamp": 1732801990887,
     "user": {
      "displayName": "QUYẾT LÊ",
      "userId": "10351380661436045253"
     },
     "user_tz": -420
    },
    "id": "GWsAo0ei1RtH",
    "outputId": "30b88c95-9721-4263-f976-d9948d19ac62"
   },
   "outputs": [
    {
     "name": "stdout",
     "output_type": "stream",
     "text": [
      "So dong trung lap :  0\n"
     ]
    }
   ],
   "source": [
    "print(\"So dong trung lap : \",df.duplicated().sum())"
   ]
  },
  {
   "cell_type": "code",
   "execution_count": 6,
   "metadata": {
    "id": "XVfm2QGT1RtI"
   },
   "outputs": [],
   "source": [
    "discrete_variables = [\"Age\", \"WebsiteVisits\", \"SocialShares\", \"EmailOpens\", \"EmailClicks\", \"PreviousPurchases\"]\n",
    "continuous_variables = [\"Income\", \"AdSpend\", \"ClickThroughRate\", \"ConversionRate\", \"PagesPerVisit\", \"TimeOnSite\", \"LoyaltyPoints\"]\n",
    "categorical_variables = [\"Gender\", \"CampaignType\", \"CampaignChannel\", \"Conversion\"]"
   ]
  },
  {
   "cell_type": "code",
   "execution_count": 7,
   "metadata": {
    "colab": {
     "base_uri": "https://localhost:8080/",
     "height": 226
    },
    "executionInfo": {
     "elapsed": 394,
     "status": "ok",
     "timestamp": 1732801992861,
     "user": {
      "displayName": "QUYẾT LÊ",
      "userId": "10351380661436045253"
     },
     "user_tz": -420
    },
    "id": "ltqsmEqLN9z_",
    "outputId": "6319ddc4-f448-429b-b864-3904001ff1c0"
   },
   "outputs": [
    {
     "data": {
      "text/html": [
       "<div>\n",
       "<style scoped>\n",
       "    .dataframe tbody tr th:only-of-type {\n",
       "        vertical-align: middle;\n",
       "    }\n",
       "\n",
       "    .dataframe tbody tr th {\n",
       "        vertical-align: top;\n",
       "    }\n",
       "\n",
       "    .dataframe thead th {\n",
       "        text-align: right;\n",
       "    }\n",
       "</style>\n",
       "<table border=\"1\" class=\"dataframe\">\n",
       "  <thead>\n",
       "    <tr style=\"text-align: right;\">\n",
       "      <th></th>\n",
       "      <th>Age</th>\n",
       "      <th>Gender</th>\n",
       "      <th>Income</th>\n",
       "      <th>CampaignChannel</th>\n",
       "      <th>CampaignType</th>\n",
       "      <th>AdSpend</th>\n",
       "      <th>ClickThroughRate</th>\n",
       "      <th>WebsiteVisits</th>\n",
       "      <th>PagesPerVisit</th>\n",
       "      <th>TimeOnSite</th>\n",
       "      <th>SocialShares</th>\n",
       "      <th>EmailOpens</th>\n",
       "      <th>EmailClicks</th>\n",
       "      <th>PreviousPurchases</th>\n",
       "      <th>LoyaltyPoints</th>\n",
       "      <th>Conversion</th>\n",
       "    </tr>\n",
       "  </thead>\n",
       "  <tbody>\n",
       "    <tr>\n",
       "      <th>0</th>\n",
       "      <td>56</td>\n",
       "      <td>Female</td>\n",
       "      <td>136912</td>\n",
       "      <td>Social Media</td>\n",
       "      <td>Awareness</td>\n",
       "      <td>6497.870068</td>\n",
       "      <td>0.043919</td>\n",
       "      <td>0</td>\n",
       "      <td>2.399017</td>\n",
       "      <td>7.396803</td>\n",
       "      <td>19</td>\n",
       "      <td>6</td>\n",
       "      <td>9</td>\n",
       "      <td>4</td>\n",
       "      <td>688</td>\n",
       "      <td>1</td>\n",
       "    </tr>\n",
       "    <tr>\n",
       "      <th>1</th>\n",
       "      <td>69</td>\n",
       "      <td>Male</td>\n",
       "      <td>41760</td>\n",
       "      <td>Email</td>\n",
       "      <td>Retention</td>\n",
       "      <td>3898.668606</td>\n",
       "      <td>0.155725</td>\n",
       "      <td>42</td>\n",
       "      <td>2.917138</td>\n",
       "      <td>5.352549</td>\n",
       "      <td>5</td>\n",
       "      <td>2</td>\n",
       "      <td>7</td>\n",
       "      <td>2</td>\n",
       "      <td>3459</td>\n",
       "      <td>1</td>\n",
       "    </tr>\n",
       "    <tr>\n",
       "      <th>2</th>\n",
       "      <td>46</td>\n",
       "      <td>Female</td>\n",
       "      <td>88456</td>\n",
       "      <td>PPC</td>\n",
       "      <td>Awareness</td>\n",
       "      <td>1546.429596</td>\n",
       "      <td>0.277490</td>\n",
       "      <td>2</td>\n",
       "      <td>8.223619</td>\n",
       "      <td>13.794901</td>\n",
       "      <td>0</td>\n",
       "      <td>11</td>\n",
       "      <td>2</td>\n",
       "      <td>8</td>\n",
       "      <td>2337</td>\n",
       "      <td>1</td>\n",
       "    </tr>\n",
       "    <tr>\n",
       "      <th>3</th>\n",
       "      <td>32</td>\n",
       "      <td>Female</td>\n",
       "      <td>44085</td>\n",
       "      <td>PPC</td>\n",
       "      <td>Conversion</td>\n",
       "      <td>539.525936</td>\n",
       "      <td>0.137611</td>\n",
       "      <td>47</td>\n",
       "      <td>4.540939</td>\n",
       "      <td>14.688363</td>\n",
       "      <td>89</td>\n",
       "      <td>2</td>\n",
       "      <td>2</td>\n",
       "      <td>0</td>\n",
       "      <td>2463</td>\n",
       "      <td>1</td>\n",
       "    </tr>\n",
       "    <tr>\n",
       "      <th>4</th>\n",
       "      <td>60</td>\n",
       "      <td>Female</td>\n",
       "      <td>83964</td>\n",
       "      <td>PPC</td>\n",
       "      <td>Conversion</td>\n",
       "      <td>1678.043573</td>\n",
       "      <td>0.252851</td>\n",
       "      <td>0</td>\n",
       "      <td>2.046847</td>\n",
       "      <td>13.993370</td>\n",
       "      <td>6</td>\n",
       "      <td>6</td>\n",
       "      <td>6</td>\n",
       "      <td>8</td>\n",
       "      <td>4345</td>\n",
       "      <td>1</td>\n",
       "    </tr>\n",
       "  </tbody>\n",
       "</table>\n",
       "</div>"
      ],
      "text/plain": [
       "   Age  Gender  Income CampaignChannel CampaignType      AdSpend  \\\n",
       "0   56  Female  136912    Social Media    Awareness  6497.870068   \n",
       "1   69    Male   41760           Email    Retention  3898.668606   \n",
       "2   46  Female   88456             PPC    Awareness  1546.429596   \n",
       "3   32  Female   44085             PPC   Conversion   539.525936   \n",
       "4   60  Female   83964             PPC   Conversion  1678.043573   \n",
       "\n",
       "   ClickThroughRate  WebsiteVisits  PagesPerVisit  TimeOnSite  SocialShares  \\\n",
       "0          0.043919              0       2.399017    7.396803            19   \n",
       "1          0.155725             42       2.917138    5.352549             5   \n",
       "2          0.277490              2       8.223619   13.794901             0   \n",
       "3          0.137611             47       4.540939   14.688363            89   \n",
       "4          0.252851              0       2.046847   13.993370             6   \n",
       "\n",
       "   EmailOpens  EmailClicks  PreviousPurchases  LoyaltyPoints  Conversion  \n",
       "0           6            9                  4            688           1  \n",
       "1           2            7                  2           3459           1  \n",
       "2          11            2                  8           2337           1  \n",
       "3           2            2                  0           2463           1  \n",
       "4           6            6                  8           4345           1  "
      ]
     },
     "execution_count": 7,
     "metadata": {},
     "output_type": "execute_result"
    }
   ],
   "source": [
    "df = df.drop(columns = ['AdvertisingTool', 'AdvertisingPlatform','CustomerID','ConversionRate'])\n",
    "df.head()"
   ]
  },
  {
   "cell_type": "code",
   "execution_count": 8,
   "metadata": {},
   "outputs": [
    {
     "data": {
      "image/png": "[encoded data removed]",
      "text/plain": [
       "<Figure size 500x320 with 1 Axes>"
      ]
     },
     "metadata": {},
     "output_type": "display_data"
    }
   ],
   "source": [
    "plt.figure(figsize = (5, 3.2))\n",
    "plt.pie(x = Counter(df[\"Conversion\"]).values(),\n",
    "        labels = Counter(df[\"Conversion\"]).keys(),\n",
    "        autopct = \"%.1f%%\",\n",
    "        shadow = True)\n",
    "plt.title(\"Conversion\", fontsize = 12, fontweight = \"bold\")\n",
    "plt.show()"
   ]
  },
  {
   "cell_type": "code",
   "execution_count": 9,
   "metadata": {},
   "outputs": [
    {
     "data": {
      "image/png": "[encoded data removed]",
      "text/plain": [
       "<Figure size 1200x800 with 2 Axes>"
      ]
     },
     "metadata": {},
     "output_type": "display_data"
    }
   ],
   "source": [
    "import seaborn as sns\n",
    "# Select only numeric columns\n",
    "numeric_df = df.select_dtypes(include=[np.number])\n",
    "\n",
    "# Compute the correlation matrix\n",
    "corr_matrix = numeric_df.corr()\n",
    "\n",
    "# Plot the heatmap\n",
    "plt.figure(figsize=(12, 8))\n",
    "sns.heatmap(corr_matrix, annot=True, cmap='coolwarm', fmt='.2f')\n",
    "plt.title('Correlation Heatmap')\n",
    "plt.show()"
   ]
  },
  {
   "cell_type": "code",
   "execution_count": null,
   "metadata": {
    "id": "btBZNVaMPNOa"
   },
   "outputs": [],
   "source": [
    "X = df.drop('Conversion', axis = 1)\n",
    "y = df['Conversion']\n",
    "\n",
    "\n",
    "X_train, X_test, y_train, y_test = train_test_split(X,y, test_size = 0.2, random_state = 42, stratify = y)\n",
    "\n",
    "categorical_features = X_train.select_dtypes(include = ['object', 'category']).columns.to_list()\n",
    "\n",
    "te = TargetEncoder(random_state = 42)\n",
    "\n",
    "transformers = [('te', te, categorical_features)]\n",
    "\n",
    "preprocessor = ColumnTransformer(transformers,\n",
    "                                 remainder = 'passthrough',\n",
    "                                 verbose_feature_names_out = False)\n",
    "preprocessor.set_output(transform = 'pandas')\n",
    "\n",
    "X_train_prep = preprocessor.fit_transform(X_train, y_train)\n",
    "X_test_prep = preprocessor.transform(X_test)"
   ]
  },
  {
   "cell_type": "code",
   "execution_count": null,
   "metadata": {
    "colab": {
     "base_uri": "https://localhost:8080/"
    },
    "executionInfo": {
     "elapsed": 598,
     "status": "ok",
     "timestamp": 1732802002509,
     "user": {
      "displayName": "QUYẾT LÊ",
      "userId": "10351380661436045253"
     },
     "user_tz": -420
    },
    "id": "U4ePMaorRlrb",
    "outputId": "33b15934-de1a-43a7-800d-731d8a394491"
   },
   "outputs": [
    {
     "name": "stdout",
     "output_type": "stream",
     "text": [
      "Train f1_score: 1.0000\n",
      "Test f1_score: 0.8999\n",
      "Train confusion_matrix:\n",
      " [[ 790    0]\n",
      " [   0 5610]]\n",
      "Test confusion_matrix:\n",
      " [[  67  131]\n",
      " [ 148 1254]]\n",
      "Test accuracy with best parameters: 0.825625\n"
     ]
    }
   ],
   "source": [
    "clf = DecisionTreeClassifier(criterion='gini',random_state = 42)\n",
    "clf.fit(X_train_prep, y_train)\n",
    "y_pred_train = clf.predict(X_train_prep)\n",
    "y_pred_test = clf.predict(X_test_prep)\n",
    "\n",
    "print(f\"Train f1_score: {f1_score(y_train, y_pred_train):.4f}\")\n",
    "print(f\"Test f1_score: {f1_score(y_test, y_pred_test):.4f}\")\n",
    "\n",
    "print(f\"Train confusion_matrix:\\n {confusion_matrix(y_train, y_pred_train)}\")\n",
    "print(f\"Test confusion_matrix:\\n {confusion_matrix(y_test, y_pred_test)}\")\n",
    "\n",
    "accuracy = accuracy_score(y_test, y_pred_test)\n",
    "print(f\"Test accuracy with best parameters: {accuracy}\")"
   ]
  },
  {
   "cell_type": "code",
   "execution_count": null,
   "metadata": {
    "colab": {
     "base_uri": "https://localhost:8080/"
    },
    "executionInfo": {
     "elapsed": 74177,
     "status": "ok",
     "timestamp": 1732802081408,
     "user": {
      "displayName": "QUYẾT LÊ",
      "userId": "10351380661436045253"
     },
     "user_tz": -420
    },
    "id": "g8BFFUO0QYOI",
    "outputId": "acba2255-c1a1-43aa-87ed-09fc3a387790"
   },
   "outputs": [
    {
     "name": "stdout",
     "output_type": "stream",
     "text": [
      "Best parameters: {'max_depth': 9, 'min_samples_leaf': 4, 'min_samples_split': 2}\n",
      "Best cross-validation score: 0.8815625\n",
      "Test accuracy with best parameters: 0.8575\n"
     ]
    }
   ],
   "source": [
    "from sklearn.model_selection import GridSearchCV\n",
    "\n",
    "# Define the parameter grid\n",
    "param_grid = {\n",
    "    'max_depth': [None,8,9, 10,11,13,15, 20, 30],\n",
    "    'min_samples_split': [2,3,4, 5, 10],\n",
    "    'min_samples_leaf': [1, 2, 4]\n",
    "}\n",
    "\n",
    "# Create GridSearchCV object\n",
    "grid_search = GridSearchCV(estimator=clf, param_grid=param_grid, cv=5, scoring='accuracy')\n",
    "\n",
    "# Fit the grid search to the data\n",
    "grid_search.fit(X_train_prep, y_train)\n",
    "\n",
    "# Get the best parameters and best score\n",
    "best_params = grid_search.best_params_\n",
    "best_score = grid_search.best_score_\n",
    "\n",
    "print(f\"Best parameters: {best_params}\")\n",
    "print(f\"Best cross-validation score: {best_score}\")\n",
    "\n",
    "# Train a new model with the best parameters\n",
    "best_clf = DecisionTreeClassifier(**best_params, random_state=42)\n",
    "best_clf.fit(X_train_prep, y_train)\n",
    "\n",
    "# Predict on the test set\n",
    "y_pred = best_clf.predict(X_test_prep)\n",
    "\n",
    "# Evaluate the model\n",
    "accuracy = accuracy_score(y_test, y_pred)\n",
    "print(f\"Test accuracy with best parameters: {accuracy}\")"
   ]
  },
  {
   "cell_type": "code",
   "execution_count": null,
   "metadata": {
    "colab": {
     "base_uri": "https://localhost:8080/"
    },
    "executionInfo": {
     "elapsed": 41648,
     "status": "ok",
     "timestamp": 1732802123042,
     "user": {
      "displayName": "QUYẾT LÊ",
      "userId": "10351380661436045253"
     },
     "user_tz": -420
    },
    "id": "YYuMJQoHREWY",
    "outputId": "6b2cea58-97f0-414b-b9d9-11e5f89563bf"
   },
   "outputs": [
    {
     "name": "stdout",
     "output_type": "stream",
     "text": [
      "Test accuracy with post-pruning (best alpha=0.00011141437140906639): 0.88375\n"
     ]
    }
   ],
   "source": [
    "# Train a full tree\n",
    "clf_full = DecisionTreeClassifier(criterion='gini',random_state=42,class_weight = {0:0.1,1:0.9})  # No restrictions on growth\n",
    "clf_full.fit(X_train_prep, y_train)\n",
    "\n",
    "# Get cost complexity pruning path\n",
    "path = clf_full.cost_complexity_pruning_path(X_train_prep, y_train)\n",
    "ccp_alphas, impurities = path.ccp_alphas, path.impurities\n",
    "\n",
    "# Train multiple trees with different alpha values\n",
    "clfs = []\n",
    "for ccp_alpha in ccp_alphas:\n",
    "    clf = DecisionTreeClassifier(criterion='gini',random_state=42, ccp_alpha=ccp_alpha,class_weight = {0:0.1,1:0.9})\n",
    "    clf.fit(X_train_prep, y_train)\n",
    "    clfs.append(clf)\n",
    "\n",
    "# Evaluate the trees\n",
    "train_scores = [clf.score(X_train_prep, y_train) for clf in clfs]\n",
    "test_scores = [clf.score(X_test_prep, y_test) for clf in clfs]\n",
    "\n",
    "\n",
    "\n",
    "# Choose a suitable alpha based on the plot or other criteria\n",
    "best_alpha_index = np.argmax(test_scores)\n",
    "best_alpha = ccp_alphas[best_alpha_index]\n",
    "\n",
    "# Train the final model with the best alpha\n",
    "best_clf_post = DecisionTreeClassifier(criterion='gini',random_state=42, ccp_alpha=best_alpha,class_weight = {0:0.1,1:0.9})\n",
    "best_clf_post.fit(X_train_prep, y_train)\n",
    "\n",
    "y_pred_post = best_clf_post.predict(X_test_prep)\n",
    "accuracy_post = accuracy_score(y_test, y_pred_post)\n",
    "print(f\"Test accuracy with post-pruning (best alpha={best_alpha}): {accuracy_post}\")"
   ]
  },
  {
   "cell_type": "code",
   "execution_count": null,
   "metadata": {
    "colab": {
     "base_uri": "https://localhost:8080/"
    },
    "executionInfo": {
     "elapsed": 11,
     "status": "ok",
     "timestamp": 1732802123043,
     "user": {
      "displayName": "QUYẾT LÊ",
      "userId": "10351380661436045253"
     },
     "user_tz": -420
    },
    "id": "X2K9hr99Ue8B",
    "outputId": "2346643b-e47f-4b5b-b93e-61c351290263"
   },
   "outputs": [
    {
     "name": "stdout",
     "output_type": "stream",
     "text": [
      "\n",
      "Pre-pruning (GridSearchCV) Results:\n",
      "Best parameters: {'max_depth': 9, 'min_samples_leaf': 4, 'min_samples_split': 2}\n",
      "Best cross-validation score: 0.8815625\n",
      "Test accuracy: 0.8575\n",
      "\n",
      "Post-pruning (Cost Complexity Pruning) Results:\n",
      "Best alpha: 0.00011141437140906639\n",
      "Test accuracy: 0.88375\n"
     ]
    }
   ],
   "source": [
    "# Pre-pruning (using GridSearchCV)\n",
    "print(\"\\nPre-pruning (GridSearchCV) Results:\")\n",
    "print(f\"Best parameters: {best_params}\")\n",
    "print(f\"Best cross-validation score: {best_score}\")\n",
    "print(f\"Test accuracy: {accuracy}\")\n",
    "\n",
    "\n",
    "# Post-pruning (Cost Complexity Pruning)\n",
    "print(\"\\nPost-pruning (Cost Complexity Pruning) Results:\")\n",
    "print(f\"Best alpha: {best_alpha}\")\n",
    "print(f\"Test accuracy: {accuracy_post}\")"
   ]
  },
  {
   "cell_type": "code",
   "execution_count": null,
   "metadata": {
    "colab": {
     "base_uri": "https://localhost:8080/"
    },
    "executionInfo": {
     "elapsed": 7,
     "status": "ok",
     "timestamp": 1732802123043,
     "user": {
      "displayName": "QUYẾT LÊ",
      "userId": "10351380661436045253"
     },
     "user_tz": -420
    },
    "id": "qYHOPd0NS532",
    "outputId": "5c008891-5aaf-4225-b32e-4d2fc61e4c6f"
   },
   "outputs": [
    {
     "name": "stdout",
     "output_type": "stream",
     "text": [
      "\n",
      "Classification Report (Pre-pruning):\n",
      "              precision    recall  f1-score   support\n",
      "\n",
      "           0       0.39      0.28      0.33       198\n",
      "           1       0.90      0.94      0.92      1402\n",
      "\n",
      "    accuracy                           0.86      1600\n",
      "   macro avg       0.65      0.61      0.62      1600\n",
      "weighted avg       0.84      0.86      0.85      1600\n",
      "\n",
      "\n",
      "Classification Report (Post-pruning):\n",
      "              precision    recall  f1-score   support\n",
      "\n",
      "           0       0.69      0.11      0.19       198\n",
      "           1       0.89      0.99      0.94      1402\n",
      "\n",
      "    accuracy                           0.88      1600\n",
      "   macro avg       0.79      0.55      0.56      1600\n",
      "weighted avg       0.86      0.88      0.85      1600\n",
      "\n"
     ]
    }
   ],
   "source": [
    "from sklearn.metrics import classification_report\n",
    "\n",
    "# Pre-pruning classification report\n",
    "y_pred_pre = best_clf.predict(X_test_prep)\n",
    "print(\"\\nClassification Report (Pre-pruning):\")\n",
    "print(classification_report(y_test, y_pred_pre))\n",
    "\n",
    "\n",
    "# Post-pruning classification report\n",
    "y_pred_post = best_clf_post.predict(X_test_prep)\n",
    "print(\"\\nClassification Report (Post-pruning):\")\n",
    "print(classification_report(y_test, y_pred_post))"
   ]
  },
  {
   "cell_type": "code",
   "execution_count": null,
   "metadata": {
    "id": "V3bAKf9tFCEY"
   },
   "outputs": [],
   "source": []
  }
 ],
 "metadata": {
  "colab": {
   "provenance": []
  },
  "kernelspec": {
   "display_name": "Python 3",
   "language": "python",
   "name": "python3"
  },
  "language_info": {
   "codemirror_mode": {
    "name": "ipython",
    "version": 3
   },
   "file_extension": ".py",
   "mimetype": "text/x-python",
   "name": "python",
   "nbconvert_exporter": "python",
   "pygments_lexer": "ipython3",
   "version": "3.12.3"
  }
 },
 "nbformat": 4,
 "nbformat_minor": 0
}
